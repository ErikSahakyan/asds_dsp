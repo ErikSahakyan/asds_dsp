{
  "nbformat": 4,
  "nbformat_minor": 0,
  "metadata": {
    "colab": {
      "provenance": []
    },
    "kernelspec": {
      "name": "python3",
      "display_name": "Python 3"
    },
    "language_info": {
      "name": "python"
    }
  },
  "cells": [
    {
      "cell_type": "code",
      "execution_count": null,
      "metadata": {
        "id": "9YOe0BofD4G2"
      },
      "outputs": [],
      "source": [
        "import random\n",
        "import wave\n",
        "import struct\n",
        "import numpy as np\n",
        "\n",
        "def karplus_strong(alpfa,wavetable, n_samples):\n",
        "    \"\"\"Synthesizes a new waveform from an existing wavetable, modifies last sample by averaging.\"\"\"\n",
        "    samples = []\n",
        "    current_sample = 0\n",
        "    previous_value = 0\n",
        "    while len(samples) < n_samples:\n",
        "        wavetable[current_sample] = alpfa * (wavetable[current_sample] + previous_value)\n",
        "        samples.append(wavetable[current_sample])\n",
        "        previous_value = samples[-1]\n",
        "        current_sample += 1\n",
        "        current_sample = current_sample % len(wavetable)\n",
        "    return samples\n",
        "\n",
        "def generate_random_x(N):\n",
        "    return (2 * np.random.randint(0, 2, N) - 1).astype(np.float)\n",
        "\n",
        "def save_to_wav(y, filename):\n",
        "    max_y=max(y)\n",
        "    y=y/max_y\n",
        "    print(max(y))\n",
        "    print(min(y))\n",
        "    with wave.open(filename, 'w') as wav_file:\n",
        "        wav_file.setparams((1, 2, 44100, 0, 'NONE', 'not compressed'))\n",
        "        for sample in y:\n",
        "            wav_file.writeframes(struct.pack('h', int(sample * 0x7fff)))\n",
        "\n",
        "def create_wav_examples(a,M, N,filename=\"test.wav\"):\n",
        "    x = generate_random_x(M)\n",
        "    y = karplus_strong(a,x, N)\n",
        "    save_to_wav(y, filename)\n"
      ]
    },
    {
      "cell_type": "code",
      "source": [
        "a = 0.4  # damping coefficient\n",
        "N = 44100  # length of output signal\n",
        "create_wav_examples(a,700, N,\"example.wav\")"
      ],
      "metadata": {
        "colab": {
          "base_uri": "https://localhost:8080/",
          "height": 452
        },
        "id": "pY6I_JEtFE-0",
        "outputId": "cf746a2d-cf20-4ec4-de77-62191c2a9023"
      },
      "execution_count": null,
      "outputs": [
        {
          "output_type": "stream",
          "name": "stdout",
          "text": [
            "1.0\n",
            "-1.0000648510852808\n"
          ]
        },
        {
          "output_type": "stream",
          "name": "stderr",
          "text": [
            "<ipython-input-62-267b5d41426c>:20: DeprecationWarning: `np.float` is a deprecated alias for the builtin `float`. To silence this warning, use `float` by itself. Doing this will not modify any behavior and is safe. If you specifically wanted the numpy scalar type, use `np.float64` here.\n",
            "Deprecated in NumPy 1.20; for more details and guidance: https://numpy.org/devdocs/release/1.20.0-notes.html#deprecations\n",
            "  return (2 * np.random.randint(0, 2, N) - 1).astype(np.float)\n"
          ]
        },
        {
          "output_type": "error",
          "ename": "error",
          "evalue": "ignored",
          "traceback": [
            "\u001b[0;31m---------------------------------------------------------------------------\u001b[0m",
            "\u001b[0;31merror\u001b[0m                                     Traceback (most recent call last)",
            "\u001b[0;32m<ipython-input-66-da2ce0d28beb>\u001b[0m in \u001b[0;36m<module>\u001b[0;34m\u001b[0m\n\u001b[1;32m      1\u001b[0m \u001b[0ma\u001b[0m \u001b[0;34m=\u001b[0m \u001b[0;36m0.4\u001b[0m  \u001b[0;31m# damping coefficient\u001b[0m\u001b[0;34m\u001b[0m\u001b[0;34m\u001b[0m\u001b[0m\n\u001b[1;32m      2\u001b[0m \u001b[0mN\u001b[0m \u001b[0;34m=\u001b[0m \u001b[0;36m44100\u001b[0m  \u001b[0;31m# length of output signal\u001b[0m\u001b[0;34m\u001b[0m\u001b[0;34m\u001b[0m\u001b[0m\n\u001b[0;32m----> 3\u001b[0;31m \u001b[0mcreate_wav_examples\u001b[0m\u001b[0;34m(\u001b[0m\u001b[0ma\u001b[0m\u001b[0;34m,\u001b[0m\u001b[0;36m700\u001b[0m\u001b[0;34m,\u001b[0m \u001b[0mN\u001b[0m\u001b[0;34m,\u001b[0m\u001b[0;34m\"example.wav\"\u001b[0m\u001b[0;34m)\u001b[0m\u001b[0;34m\u001b[0m\u001b[0;34m\u001b[0m\u001b[0m\n\u001b[0m",
            "\u001b[0;32m<ipython-input-62-267b5d41426c>\u001b[0m in \u001b[0;36mcreate_wav_examples\u001b[0;34m(a, M, N, filename)\u001b[0m\n\u001b[1;32m     33\u001b[0m     \u001b[0mx\u001b[0m \u001b[0;34m=\u001b[0m \u001b[0mgenerate_random_x\u001b[0m\u001b[0;34m(\u001b[0m\u001b[0mM\u001b[0m\u001b[0;34m)\u001b[0m\u001b[0;34m\u001b[0m\u001b[0;34m\u001b[0m\u001b[0m\n\u001b[1;32m     34\u001b[0m     \u001b[0my\u001b[0m \u001b[0;34m=\u001b[0m \u001b[0mkarplus_strong\u001b[0m\u001b[0;34m(\u001b[0m\u001b[0ma\u001b[0m\u001b[0;34m,\u001b[0m\u001b[0mx\u001b[0m\u001b[0;34m,\u001b[0m \u001b[0mN\u001b[0m\u001b[0;34m)\u001b[0m\u001b[0;34m\u001b[0m\u001b[0;34m\u001b[0m\u001b[0m\n\u001b[0;32m---> 35\u001b[0;31m     \u001b[0msave_to_wav\u001b[0m\u001b[0;34m(\u001b[0m\u001b[0my\u001b[0m\u001b[0;34m,\u001b[0m \u001b[0mfilename\u001b[0m\u001b[0;34m)\u001b[0m\u001b[0;34m\u001b[0m\u001b[0;34m\u001b[0m\u001b[0m\n\u001b[0m",
            "\u001b[0;32m<ipython-input-62-267b5d41426c>\u001b[0m in \u001b[0;36msave_to_wav\u001b[0;34m(y, filename)\u001b[0m\n\u001b[1;32m     28\u001b[0m         \u001b[0mwav_file\u001b[0m\u001b[0;34m.\u001b[0m\u001b[0msetparams\u001b[0m\u001b[0;34m(\u001b[0m\u001b[0;34m(\u001b[0m\u001b[0;36m1\u001b[0m\u001b[0;34m,\u001b[0m \u001b[0;36m2\u001b[0m\u001b[0;34m,\u001b[0m \u001b[0;36m44100\u001b[0m\u001b[0;34m,\u001b[0m \u001b[0;36m0\u001b[0m\u001b[0;34m,\u001b[0m \u001b[0;34m'NONE'\u001b[0m\u001b[0;34m,\u001b[0m \u001b[0;34m'not compressed'\u001b[0m\u001b[0;34m)\u001b[0m\u001b[0;34m)\u001b[0m\u001b[0;34m\u001b[0m\u001b[0;34m\u001b[0m\u001b[0m\n\u001b[1;32m     29\u001b[0m         \u001b[0;32mfor\u001b[0m \u001b[0msample\u001b[0m \u001b[0;32min\u001b[0m \u001b[0my\u001b[0m\u001b[0;34m:\u001b[0m\u001b[0;34m\u001b[0m\u001b[0;34m\u001b[0m\u001b[0m\n\u001b[0;32m---> 30\u001b[0;31m             \u001b[0mwav_file\u001b[0m\u001b[0;34m.\u001b[0m\u001b[0mwriteframes\u001b[0m\u001b[0;34m(\u001b[0m\u001b[0mstruct\u001b[0m\u001b[0;34m.\u001b[0m\u001b[0mpack\u001b[0m\u001b[0;34m(\u001b[0m\u001b[0;34m'h'\u001b[0m\u001b[0;34m,\u001b[0m \u001b[0mint\u001b[0m\u001b[0;34m(\u001b[0m\u001b[0msample\u001b[0m \u001b[0;34m*\u001b[0m \u001b[0;36m0x7fff\u001b[0m\u001b[0;34m)\u001b[0m\u001b[0;34m)\u001b[0m\u001b[0;34m)\u001b[0m\u001b[0;34m\u001b[0m\u001b[0;34m\u001b[0m\u001b[0m\n\u001b[0m\u001b[1;32m     31\u001b[0m \u001b[0;34m\u001b[0m\u001b[0m\n\u001b[1;32m     32\u001b[0m \u001b[0;32mdef\u001b[0m \u001b[0mcreate_wav_examples\u001b[0m\u001b[0;34m(\u001b[0m\u001b[0ma\u001b[0m\u001b[0;34m,\u001b[0m\u001b[0mM\u001b[0m\u001b[0;34m,\u001b[0m \u001b[0mN\u001b[0m\u001b[0;34m,\u001b[0m\u001b[0mfilename\u001b[0m\u001b[0;34m=\u001b[0m\u001b[0;34m\"test.wav\"\u001b[0m\u001b[0;34m)\u001b[0m\u001b[0;34m:\u001b[0m\u001b[0;34m\u001b[0m\u001b[0;34m\u001b[0m\u001b[0m\n",
            "\u001b[0;31merror\u001b[0m: short format requires (-0x7fff - 1) <= number <= 0x7fff"
          ]
        }
      ]
    }
  ]
}