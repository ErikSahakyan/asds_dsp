{
  "cells": [
    {
      "cell_type": "code",
      "execution_count": 6,
      "metadata": {
        "id": "9YOe0BofD4G2"
      },
      "outputs": [],
      "source": [
        "import random\n",
        "import wave\n",
        "import struct\n",
        "import numpy as np\n",
        "\n",
        "def karplus_strong(alpfa,wavetable, n_samples):\n",
        "    \"\"\"Synthesizes a new waveform from an existing wavetable, modifies last sample by averaging.\"\"\"\n",
        "    samples = []\n",
        "    current_sample = 0\n",
        "    previous_value = 0\n",
        "    while len(samples) < n_samples:\n",
        "        wavetable[current_sample] = alpfa * (wavetable[current_sample] + previous_value)\n",
        "        samples.append(wavetable[current_sample])\n",
        "        previous_value = samples[-1]\n",
        "        current_sample += 1\n",
        "        current_sample = current_sample % len(wavetable)\n",
        "    return samples\n",
        "\n",
        "def generate_random_x(N):\n",
        "    return (2 * np.random.randint(0, 2, N) - 1).astype(np.float)\n",
        "\n",
        "def save_to_wav(y, filename):\n",
        "    max_y=max(y)\n",
        "    y=y/max_y\n",
        "    with wave.open(filename, 'w') as wav_file:\n",
        "        wav_file.setparams((1, 2, 44100, 0, 'NONE', 'not compressed'))\n",
        "        for sample in y:\n",
        "            wav_file.writeframes(struct.pack('h', int(sample * 0x7fff)))\n",
        "\n",
        "def create_wav_examples(a,M, N,filename=\"test.wav\"):\n",
        "    x = generate_random_x(M)\n",
        "    y = karplus_strong(a,x, N)\n",
        "    save_to_wav(y, filename)\n"
      ]
    },
    {
      "cell_type": "code",
      "execution_count": 8,
      "metadata": {
        "colab": {
          "base_uri": "https://localhost:8080/",
          "height": 452
        },
        "id": "pY6I_JEtFE-0",
        "outputId": "cf746a2d-cf20-4ec4-de77-62191c2a9023"
      },
      "outputs": [
        {
          "name": "stderr",
          "output_type": "stream",
          "text": [
            "C:\\Users\\Erik\\AppData\\Local\\Temp\\ipykernel_11384\\3906383969.py:20: DeprecationWarning: `np.float` is a deprecated alias for the builtin `float`. To silence this warning, use `float` by itself. Doing this will not modify any behavior and is safe. If you specifically wanted the numpy scalar type, use `np.float64` here.\n",
            "Deprecated in NumPy 1.20; for more details and guidance: https://numpy.org/devdocs/release/1.20.0-notes.html#deprecations\n",
            "  return (2 * np.random.randint(0, 2, N) - 1).astype(np.float)\n"
          ]
        }
      ],
      "source": [
        "a = 0.5  # damping coefficient\n",
        "N = 44100  # length of output signal\n",
        "create_wav_examples(a,700, N,\"example.wav\")"
      ]
    }
  ],
  "metadata": {
    "colab": {
      "provenance": []
    },
    "kernelspec": {
      "display_name": "Python 3",
      "language": "python",
      "name": "python3"
    },
    "language_info": {
      "codemirror_mode": {
        "name": "ipython",
        "version": 3
      },
      "file_extension": ".py",
      "mimetype": "text/x-python",
      "name": "python",
      "nbconvert_exporter": "python",
      "pygments_lexer": "ipython3",
      "version": "3.9.13"
    },
    "vscode": {
      "interpreter": {
        "hash": "ad2bdc8ecc057115af97d19610ffacc2b4e99fae6737bb82f5d7fb13d2f2c186"
      }
    }
  },
  "nbformat": 4,
  "nbformat_minor": 0
}
